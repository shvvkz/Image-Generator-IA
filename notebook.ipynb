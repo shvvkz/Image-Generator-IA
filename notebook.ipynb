{
 "cells": [
  {
   "cell_type": "markdown",
   "metadata": {},
   "source": [
    "---\n",
    "\n",
    "title: Devoir IA Multimodale\n",
    "author: Viggo Casciano\n",
    "\n",
    "---"
   ]
  },
  {
   "cell_type": "markdown",
   "metadata": {},
   "source": [
    "# Le sujet\n",
    "\n",
    "Ce que ous avez compris du sujet.\n",
    "\n",
    "## 1.Génération du prompt intermédiaire:\n",
    "\n",
    "### 1.1 Obtention de la clé API\n",
    "Quel Site ? Comment l'obtenir?\n",
    "\n",
    "### 1.2 Installation des dépendances\n",
    "\n",
    "On installe les dépendances de la manière suivante : "
   ]
  },
  {
   "cell_type": "code",
   "execution_count": 12,
   "metadata": {},
   "outputs": [
    {
     "name": "stdout",
     "output_type": "stream",
     "text": [
      "Requirement already satisfied: huggingface-hub in /home/shvvkz/Documents/DeveloppementPython/.venv/lib/python3.12/site-packages (0.29.3)\n",
      "Requirement already satisfied: filelock in /home/shvvkz/Documents/DeveloppementPython/.venv/lib/python3.12/site-packages (from huggingface-hub) (3.18.0)\n",
      "Requirement already satisfied: fsspec>=2023.5.0 in /home/shvvkz/Documents/DeveloppementPython/.venv/lib/python3.12/site-packages (from huggingface-hub) (2025.3.0)\n",
      "Requirement already satisfied: packaging>=20.9 in /home/shvvkz/Documents/DeveloppementPython/.venv/lib/python3.12/site-packages (from huggingface-hub) (24.2)\n",
      "Requirement already satisfied: pyyaml>=5.1 in /home/shvvkz/Documents/DeveloppementPython/.venv/lib/python3.12/site-packages (from huggingface-hub) (6.0.2)\n",
      "Requirement already satisfied: requests in /home/shvvkz/Documents/DeveloppementPython/.venv/lib/python3.12/site-packages (from huggingface-hub) (2.32.3)\n",
      "Requirement already satisfied: tqdm>=4.42.1 in /home/shvvkz/Documents/DeveloppementPython/.venv/lib/python3.12/site-packages (from huggingface-hub) (4.67.1)\n",
      "Requirement already satisfied: typing-extensions>=3.7.4.3 in /home/shvvkz/Documents/DeveloppementPython/.venv/lib/python3.12/site-packages (from huggingface-hub) (4.12.2)\n",
      "Requirement already satisfied: charset-normalizer<4,>=2 in /home/shvvkz/Documents/DeveloppementPython/.venv/lib/python3.12/site-packages (from requests->huggingface-hub) (3.4.1)\n",
      "Requirement already satisfied: idna<4,>=2.5 in /home/shvvkz/Documents/DeveloppementPython/.venv/lib/python3.12/site-packages (from requests->huggingface-hub) (3.10)\n",
      "Requirement already satisfied: urllib3<3,>=1.21.1 in /home/shvvkz/Documents/DeveloppementPython/.venv/lib/python3.12/site-packages (from requests->huggingface-hub) (2.3.0)\n",
      "Requirement already satisfied: certifi>=2017.4.17 in /home/shvvkz/Documents/DeveloppementPython/.venv/lib/python3.12/site-packages (from requests->huggingface-hub) (2025.1.31)\n",
      "Note: you may need to restart the kernel to use updated packages.\n"
     ]
    }
   ],
   "source": [
    "%pip install huggingface-hub"
   ]
  },
  {
   "cell_type": "markdown",
   "metadata": {},
   "source": [
    "### 1.3 Importation des bibliothèques\n",
    "\n",
    "On importe le client d'inférence:"
   ]
  },
  {
   "cell_type": "code",
   "execution_count": 13,
   "metadata": {},
   "outputs": [],
   "source": [
    "from huggingface_hub import InferenceClient"
   ]
  },
  {
   "cell_type": "markdown",
   "metadata": {},
   "source": [
    "On initialise le client:"
   ]
  },
  {
   "cell_type": "code",
   "execution_count": 14,
   "metadata": {},
   "outputs": [],
   "source": [
    "client = InferenceClient(\n",
    "    provider='novita',\n",
    "    api_key='sk_N-6E-I3K-fKXFsgsvERNo9vMTIIhhZnTPokVaaTjoYw'\n",
    ")"
   ]
  },
  {
   "cell_type": "markdown",
   "metadata": {},
   "source": [
    "On décrit le message:"
   ]
  },
  {
   "cell_type": "code",
   "execution_count": 15,
   "metadata": {},
   "outputs": [],
   "source": [
    "messages = [\n",
    "    {\n",
    "        \"role\": \"system\",\n",
    "        \"content\": \"Hello, how can I help you today?\"\n",
    "    },\n",
    "    {\n",
    "        \"role\": \"user\",\n",
    "        \"content\": \"I would like to book a flight to Paris\"\n",
    "    }\n",
    "]"
   ]
  },
  {
   "cell_type": "markdown",
   "metadata": {},
   "source": [
    "On appelle l'API"
   ]
  },
  {
   "cell_type": "code",
   "execution_count": 17,
   "metadata": {},
   "outputs": [
    {
     "name": "stdout",
     "output_type": "stream",
     "text": [
      "ChatCompletionOutputMessage(role='assistant', content=\"<think>\\nOkay, so I want to book a flight to Paris. Hmm, where do I even start? I guess the first thing is figuring out when I want to go. Maybe I should check what dates are available and which ones are cheaper. I remember hearing that prices can vary a lot depending on the day of the week and the time of year.\\n\\nWait, do I know exactly when I want to go? I think I have some flexibility, so maybe I can look for the best deals. But I'm not sure how to compare different airlines or travel agencies. I guess I could use a flight search engine like Google Flights or Skyscanner. They let you see prices from various airlines and sometimes even show you the best times to book.\\n\\nOh, and I need to consider the airports. Paris has a couple of main airports, right? There's Charles de Gaulle and Orly. I wonder which one is closer to where I'm staying in Paris. Maybe I should look that up. If I'm staying in the city center, maybe Orly is closer, but I'm not sure. Or maybe it's better to go with the airport that has more flight options to my home city.\\n\\nAlso, I need to think about the airlines. Do I have a preferred airline? I don't really, but maybe some have better baggage policies or more legroom. I should check that. I don't want to end up paying extra for checked bags or have a cramped flight. Maybe I can look into the airline reviews or read some forums to see what other travelers recommend.\\n\\nAnother thing is the departure city. I'm in [insert city], so I need to find flights from here to Paris. Are there direct flights? I think there are, but sometimes connecting flights can be cheaper. I need to weigh the cost against the convenience of a direct flight. I don't want to spend too much time in layovers, especially if it's a long journey.\\n\\nWait, what about the time of the flight? I don't want to arrive too early in the morning or too late at night. Maybe a flight that arrives in the morning so I can start my trip early. Or maybe an evening flight so I can rest a bit. I should check the flight times and see which ones fit my schedule best.\\n\\nOh, and I should consider the return flight as well. I don't want to book a one-way ticket unless I have plans for the return, but\", tool_calls=None)\n"
     ]
    }
   ],
   "source": [
    "completion = client.chat.completions.create(\n",
    "    model = \"deepseek-ai/DeepSeek-R1-Distill-Qwen-32B\",\n",
    "    messages = messages,\n",
    "    max_tokens = 500,\n",
    ")\n",
    "print(completion.choices[0].message)"
   ]
  }
 ],
 "metadata": {
  "kernelspec": {
   "display_name": ".venv",
   "language": "python",
   "name": "python3"
  },
  "language_info": {
   "codemirror_mode": {
    "name": "ipython",
    "version": 3
   },
   "file_extension": ".py",
   "mimetype": "text/x-python",
   "name": "python",
   "nbconvert_exporter": "python",
   "pygments_lexer": "ipython3",
   "version": "3.12.3"
  }
 },
 "nbformat": 4,
 "nbformat_minor": 2
}
